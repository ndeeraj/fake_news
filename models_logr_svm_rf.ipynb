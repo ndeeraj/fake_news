{
 "cells": [
  {
   "cell_type": "code",
   "execution_count": 1,
   "id": "966d6101",
   "metadata": {},
   "outputs": [],
   "source": [
    "import pandas as pd\n",
    "from sklearn.model_selection import train_test_split\n",
    "from sklearn.linear_model import LogisticRegression\n",
    "from sklearn.ensemble import RandomForestClassifier\n",
    "from sklearn.svm import SVC\n",
    "from sklearn.metrics import accuracy_score, classification_report, confusion_matrix, ConfusionMatrixDisplay\n",
    "import matplotlib.pyplot as plt"
   ]
  },
  {
   "cell_type": "markdown",
   "id": "968fef81",
   "metadata": {},
   "source": [
    "# Load and preprocess data"
   ]
  },
  {
   "cell_type": "code",
   "execution_count": 2,
   "id": "94a92c30",
   "metadata": {},
   "outputs": [],
   "source": [
    "cleaned_feat_df = pd.read_csv('data/feat_new.csv')"
   ]
  },
  {
   "cell_type": "code",
   "execution_count": 3,
   "id": "ee681009",
   "metadata": {},
   "outputs": [
    {
     "data": {
      "text/html": [
       "<div>\n",
       "<style scoped>\n",
       "    .dataframe tbody tr th:only-of-type {\n",
       "        vertical-align: middle;\n",
       "    }\n",
       "\n",
       "    .dataframe tbody tr th {\n",
       "        vertical-align: top;\n",
       "    }\n",
       "\n",
       "    .dataframe thead th {\n",
       "        text-align: right;\n",
       "    }\n",
       "</style>\n",
       "<table border=\"1\" class=\"dataframe\">\n",
       "  <thead>\n",
       "    <tr style=\"text-align: right;\">\n",
       "      <th></th>\n",
       "      <th>text</th>\n",
       "      <th>label</th>\n",
       "      <th>token_length</th>\n",
       "      <th>WTAG_NN</th>\n",
       "      <th>WTAG_NNS</th>\n",
       "      <th>WTAG_VBP</th>\n",
       "      <th>WTAG_JJ</th>\n",
       "      <th>WTAG_IN</th>\n",
       "      <th>WTAG_VBD</th>\n",
       "      <th>WTAG_VBN</th>\n",
       "      <th>...</th>\n",
       "      <th>WTAG_VB</th>\n",
       "      <th>WTAG_MD</th>\n",
       "      <th>WTAG_JJS</th>\n",
       "      <th>fk_score</th>\n",
       "      <th>flesh_score</th>\n",
       "      <th>ari_score</th>\n",
       "      <th>cl_score</th>\n",
       "      <th>gf_score</th>\n",
       "      <th>sentiment</th>\n",
       "      <th>WTAG_JJR</th>\n",
       "    </tr>\n",
       "  </thead>\n",
       "  <tbody>\n",
       "    <tr>\n",
       "      <th>0</th>\n",
       "      <td>washington reuters head conservative republica...</td>\n",
       "      <td>0.0</td>\n",
       "      <td>457.0</td>\n",
       "      <td>169.0</td>\n",
       "      <td>60.0</td>\n",
       "      <td>29.0</td>\n",
       "      <td>74.0</td>\n",
       "      <td>3.0</td>\n",
       "      <td>24.0</td>\n",
       "      <td>14.0</td>\n",
       "      <td>...</td>\n",
       "      <td>8.0</td>\n",
       "      <td>5.0</td>\n",
       "      <td>2.0</td>\n",
       "      <td>182.083129</td>\n",
       "      <td>-429.181926</td>\n",
       "      <td>237.112998</td>\n",
       "      <td>21.641138</td>\n",
       "      <td>193.565864</td>\n",
       "      <td>0.0</td>\n",
       "      <td>NaN</td>\n",
       "    </tr>\n",
       "    <tr>\n",
       "      <th>1</th>\n",
       "      <td>washington reuters transgender people allowed ...</td>\n",
       "      <td>0.0</td>\n",
       "      <td>386.0</td>\n",
       "      <td>138.0</td>\n",
       "      <td>53.0</td>\n",
       "      <td>15.0</td>\n",
       "      <td>71.0</td>\n",
       "      <td>NaN</td>\n",
       "      <td>30.0</td>\n",
       "      <td>15.0</td>\n",
       "      <td>...</td>\n",
       "      <td>9.0</td>\n",
       "      <td>8.0</td>\n",
       "      <td>NaN</td>\n",
       "      <td>157.716425</td>\n",
       "      <td>-375.852927</td>\n",
       "      <td>203.978705</td>\n",
       "      <td>24.582591</td>\n",
       "      <td>170.565803</td>\n",
       "      <td>0.0</td>\n",
       "      <td>1.0</td>\n",
       "    </tr>\n",
       "    <tr>\n",
       "      <th>2</th>\n",
       "      <td>washington reuters special counsel investigati...</td>\n",
       "      <td>0.0</td>\n",
       "      <td>264.0</td>\n",
       "      <td>112.0</td>\n",
       "      <td>23.0</td>\n",
       "      <td>13.0</td>\n",
       "      <td>47.0</td>\n",
       "      <td>7.0</td>\n",
       "      <td>18.0</td>\n",
       "      <td>8.0</td>\n",
       "      <td>...</td>\n",
       "      <td>9.0</td>\n",
       "      <td>5.0</td>\n",
       "      <td>NaN</td>\n",
       "      <td>109.045152</td>\n",
       "      <td>-235.452273</td>\n",
       "      <td>141.149318</td>\n",
       "      <td>22.263333</td>\n",
       "      <td>117.115152</td>\n",
       "      <td>0.0</td>\n",
       "      <td>1.0</td>\n",
       "    </tr>\n",
       "    <tr>\n",
       "      <th>3</th>\n",
       "      <td>washington reuters trump campaign adviser geor...</td>\n",
       "      <td>0.0</td>\n",
       "      <td>233.0</td>\n",
       "      <td>87.0</td>\n",
       "      <td>27.0</td>\n",
       "      <td>7.0</td>\n",
       "      <td>49.0</td>\n",
       "      <td>6.0</td>\n",
       "      <td>26.0</td>\n",
       "      <td>3.0</td>\n",
       "      <td>...</td>\n",
       "      <td>3.0</td>\n",
       "      <td>2.0</td>\n",
       "      <td>NaN</td>\n",
       "      <td>98.778326</td>\n",
       "      <td>-214.835966</td>\n",
       "      <td>126.806910</td>\n",
       "      <td>23.693562</td>\n",
       "      <td>106.418884</td>\n",
       "      <td>0.0</td>\n",
       "      <td>NaN</td>\n",
       "    </tr>\n",
       "    <tr>\n",
       "      <th>4</th>\n",
       "      <td>seattle washington reuters president donald tr...</td>\n",
       "      <td>0.0</td>\n",
       "      <td>528.0</td>\n",
       "      <td>197.0</td>\n",
       "      <td>66.0</td>\n",
       "      <td>12.0</td>\n",
       "      <td>98.0</td>\n",
       "      <td>7.0</td>\n",
       "      <td>33.0</td>\n",
       "      <td>7.0</td>\n",
       "      <td>...</td>\n",
       "      <td>2.0</td>\n",
       "      <td>2.0</td>\n",
       "      <td>2.0</td>\n",
       "      <td>208.560606</td>\n",
       "      <td>-497.644091</td>\n",
       "      <td>271.195739</td>\n",
       "      <td>19.880530</td>\n",
       "      <td>221.654545</td>\n",
       "      <td>0.0</td>\n",
       "      <td>2.0</td>\n",
       "    </tr>\n",
       "  </tbody>\n",
       "</table>\n",
       "<p>5 rows × 24 columns</p>\n",
       "</div>"
      ],
      "text/plain": [
       "                                                text  label  token_length  \\\n",
       "0  washington reuters head conservative republica...    0.0         457.0   \n",
       "1  washington reuters transgender people allowed ...    0.0         386.0   \n",
       "2  washington reuters special counsel investigati...    0.0         264.0   \n",
       "3  washington reuters trump campaign adviser geor...    0.0         233.0   \n",
       "4  seattle washington reuters president donald tr...    0.0         528.0   \n",
       "\n",
       "   WTAG_NN  WTAG_NNS  WTAG_VBP  WTAG_JJ  WTAG_IN  WTAG_VBD  WTAG_VBN  ...  \\\n",
       "0    169.0      60.0      29.0     74.0      3.0      24.0      14.0  ...   \n",
       "1    138.0      53.0      15.0     71.0      NaN      30.0      15.0  ...   \n",
       "2    112.0      23.0      13.0     47.0      7.0      18.0       8.0  ...   \n",
       "3     87.0      27.0       7.0     49.0      6.0      26.0       3.0  ...   \n",
       "4    197.0      66.0      12.0     98.0      7.0      33.0       7.0  ...   \n",
       "\n",
       "   WTAG_VB  WTAG_MD  WTAG_JJS    fk_score  flesh_score   ari_score   cl_score  \\\n",
       "0      8.0      5.0       2.0  182.083129  -429.181926  237.112998  21.641138   \n",
       "1      9.0      8.0       NaN  157.716425  -375.852927  203.978705  24.582591   \n",
       "2      9.0      5.0       NaN  109.045152  -235.452273  141.149318  22.263333   \n",
       "3      3.0      2.0       NaN   98.778326  -214.835966  126.806910  23.693562   \n",
       "4      2.0      2.0       2.0  208.560606  -497.644091  271.195739  19.880530   \n",
       "\n",
       "     gf_score  sentiment  WTAG_JJR  \n",
       "0  193.565864        0.0       NaN  \n",
       "1  170.565803        0.0       1.0  \n",
       "2  117.115152        0.0       1.0  \n",
       "3  106.418884        0.0       NaN  \n",
       "4  221.654545        0.0       2.0  \n",
       "\n",
       "[5 rows x 24 columns]"
      ]
     },
     "execution_count": 3,
     "metadata": {},
     "output_type": "execute_result"
    }
   ],
   "source": [
    "cleaned_feat_df.head()"
   ]
  },
  {
   "cell_type": "code",
   "execution_count": 4,
   "id": "2d3ce5ff",
   "metadata": {},
   "outputs": [
    {
     "data": {
      "text/plain": [
       "text            44182\n",
       "label           44898\n",
       "token_length    44898\n",
       "WTAG_NN         44147\n",
       "WTAG_NNS        43830\n",
       "WTAG_VBP        42824\n",
       "WTAG_JJ         44030\n",
       "WTAG_IN         38103\n",
       "WTAG_VBD        43326\n",
       "WTAG_VBN        40299\n",
       "WTAG_CD         39463\n",
       "WTAG_VBG        42220\n",
       "WTAG_RB         41943\n",
       "WTAG_VBZ        36814\n",
       "WTAG_VB         38084\n",
       "WTAG_MD         31630\n",
       "WTAG_JJS        18427\n",
       "fk_score        44898\n",
       "flesh_score     44898\n",
       "ari_score       44898\n",
       "cl_score        44898\n",
       "gf_score        44898\n",
       "sentiment       44798\n",
       "WTAG_JJR        15805\n",
       "dtype: int64"
      ]
     },
     "execution_count": 4,
     "metadata": {},
     "output_type": "execute_result"
    }
   ],
   "source": [
    "cleaned_feat_df.count()"
   ]
  },
  {
   "cell_type": "code",
   "execution_count": 5,
   "id": "58dacbd8",
   "metadata": {},
   "outputs": [
    {
     "data": {
      "text/plain": [
       "text            44182\n",
       "label           44182\n",
       "token_length    44182\n",
       "WTAG_NN         44147\n",
       "WTAG_NNS        43830\n",
       "WTAG_VBP        42824\n",
       "WTAG_JJ         44030\n",
       "WTAG_IN         38103\n",
       "WTAG_VBD        43326\n",
       "WTAG_VBN        40299\n",
       "WTAG_CD         39463\n",
       "WTAG_VBG        42220\n",
       "WTAG_RB         41943\n",
       "WTAG_VBZ        36814\n",
       "WTAG_VB         38084\n",
       "WTAG_MD         31630\n",
       "WTAG_JJS        18427\n",
       "fk_score        44182\n",
       "flesh_score     44182\n",
       "ari_score       44182\n",
       "cl_score        44182\n",
       "gf_score        44182\n",
       "sentiment       44082\n",
       "WTAG_JJR        15805\n",
       "dtype: int64"
      ]
     },
     "execution_count": 5,
     "metadata": {},
     "output_type": "execute_result"
    }
   ],
   "source": [
    "# there were some rows not properly formated / has nonsensible values both in original \"Fake.csv\" dataset and after preprocessing\n",
    "# so cleaning them\n",
    "cleaned_feat_df = cleaned_feat_df[cleaned_feat_df.label.notna()]\n",
    "cleaned_feat_df = cleaned_feat_df[cleaned_feat_df.text.notna()]\n",
    "cleaned_feat_df.count()"
   ]
  },
  {
   "cell_type": "code",
   "execution_count": 6,
   "id": "f252b287",
   "metadata": {},
   "outputs": [
    {
     "data": {
      "text/html": [
       "<div>\n",
       "<style scoped>\n",
       "    .dataframe tbody tr th:only-of-type {\n",
       "        vertical-align: middle;\n",
       "    }\n",
       "\n",
       "    .dataframe tbody tr th {\n",
       "        vertical-align: top;\n",
       "    }\n",
       "\n",
       "    .dataframe thead th {\n",
       "        text-align: right;\n",
       "    }\n",
       "</style>\n",
       "<table border=\"1\" class=\"dataframe\">\n",
       "  <thead>\n",
       "    <tr style=\"text-align: right;\">\n",
       "      <th></th>\n",
       "      <th>text</th>\n",
       "      <th>token_length</th>\n",
       "      <th>WTAG_NN</th>\n",
       "      <th>WTAG_NNS</th>\n",
       "      <th>WTAG_VBP</th>\n",
       "      <th>WTAG_JJ</th>\n",
       "      <th>WTAG_IN</th>\n",
       "      <th>WTAG_VBD</th>\n",
       "      <th>WTAG_VBN</th>\n",
       "      <th>WTAG_CD</th>\n",
       "      <th>...</th>\n",
       "      <th>WTAG_VB</th>\n",
       "      <th>WTAG_MD</th>\n",
       "      <th>WTAG_JJS</th>\n",
       "      <th>fk_score</th>\n",
       "      <th>flesh_score</th>\n",
       "      <th>ari_score</th>\n",
       "      <th>cl_score</th>\n",
       "      <th>gf_score</th>\n",
       "      <th>sentiment</th>\n",
       "      <th>WTAG_JJR</th>\n",
       "    </tr>\n",
       "    <tr>\n",
       "      <th>label</th>\n",
       "      <th></th>\n",
       "      <th></th>\n",
       "      <th></th>\n",
       "      <th></th>\n",
       "      <th></th>\n",
       "      <th></th>\n",
       "      <th></th>\n",
       "      <th></th>\n",
       "      <th></th>\n",
       "      <th></th>\n",
       "      <th></th>\n",
       "      <th></th>\n",
       "      <th></th>\n",
       "      <th></th>\n",
       "      <th></th>\n",
       "      <th></th>\n",
       "      <th></th>\n",
       "      <th></th>\n",
       "      <th></th>\n",
       "      <th></th>\n",
       "      <th></th>\n",
       "    </tr>\n",
       "  </thead>\n",
       "  <tbody>\n",
       "    <tr>\n",
       "      <th>0.0</th>\n",
       "      <td>21416</td>\n",
       "      <td>21416</td>\n",
       "      <td>21416</td>\n",
       "      <td>21416</td>\n",
       "      <td>20838</td>\n",
       "      <td>21414</td>\n",
       "      <td>17504</td>\n",
       "      <td>21406</td>\n",
       "      <td>19417</td>\n",
       "      <td>18735</td>\n",
       "      <td>...</td>\n",
       "      <td>17907</td>\n",
       "      <td>15580</td>\n",
       "      <td>8699</td>\n",
       "      <td>21416</td>\n",
       "      <td>21416</td>\n",
       "      <td>21416</td>\n",
       "      <td>21416</td>\n",
       "      <td>21416</td>\n",
       "      <td>21416</td>\n",
       "      <td>7418</td>\n",
       "    </tr>\n",
       "    <tr>\n",
       "      <th>1.0</th>\n",
       "      <td>22766</td>\n",
       "      <td>22766</td>\n",
       "      <td>22731</td>\n",
       "      <td>22414</td>\n",
       "      <td>21986</td>\n",
       "      <td>22616</td>\n",
       "      <td>20599</td>\n",
       "      <td>21920</td>\n",
       "      <td>20882</td>\n",
       "      <td>20728</td>\n",
       "      <td>...</td>\n",
       "      <td>20177</td>\n",
       "      <td>16050</td>\n",
       "      <td>9728</td>\n",
       "      <td>22766</td>\n",
       "      <td>22766</td>\n",
       "      <td>22766</td>\n",
       "      <td>22766</td>\n",
       "      <td>22766</td>\n",
       "      <td>22666</td>\n",
       "      <td>8387</td>\n",
       "    </tr>\n",
       "  </tbody>\n",
       "</table>\n",
       "<p>2 rows × 23 columns</p>\n",
       "</div>"
      ],
      "text/plain": [
       "        text  token_length  WTAG_NN  WTAG_NNS  WTAG_VBP  WTAG_JJ  WTAG_IN  \\\n",
       "label                                                                       \n",
       "0.0    21416         21416    21416     21416     20838    21414    17504   \n",
       "1.0    22766         22766    22731     22414     21986    22616    20599   \n",
       "\n",
       "       WTAG_VBD  WTAG_VBN  WTAG_CD  ...  WTAG_VB  WTAG_MD  WTAG_JJS  fk_score  \\\n",
       "label                               ...                                         \n",
       "0.0       21406     19417    18735  ...    17907    15580      8699     21416   \n",
       "1.0       21920     20882    20728  ...    20177    16050      9728     22766   \n",
       "\n",
       "       flesh_score  ari_score  cl_score  gf_score  sentiment  WTAG_JJR  \n",
       "label                                                                   \n",
       "0.0          21416      21416     21416     21416      21416      7418  \n",
       "1.0          22766      22766     22766     22766      22666      8387  \n",
       "\n",
       "[2 rows x 23 columns]"
      ]
     },
     "execution_count": 6,
     "metadata": {},
     "output_type": "execute_result"
    }
   ],
   "source": [
    "cleaned_feat_df.groupby(\"label\").count()"
   ]
  },
  {
   "cell_type": "code",
   "execution_count": 7,
   "id": "c9b4a9a7",
   "metadata": {},
   "outputs": [],
   "source": [
    "cleaned_feat_df.fillna(0, inplace=True)\n",
    "temp_df = cleaned_feat_df.copy()"
   ]
  },
  {
   "cell_type": "code",
   "execution_count": 8,
   "id": "d9ce19f4",
   "metadata": {},
   "outputs": [],
   "source": [
    "Y = temp_df[[\"label\"]].astype(int)\n",
    "temp_df.drop(['label', 'text'], inplace=True, axis=1)\n",
    "X = temp_df.astype(float)\n",
    "X_train, X_test, y_train, y_test = train_test_split(X, Y, test_size=0.2)"
   ]
  },
  {
   "cell_type": "markdown",
   "id": "617ea88a",
   "metadata": {},
   "source": [
    "# Logistic regression model"
   ]
  },
  {
   "cell_type": "code",
   "execution_count": 9,
   "id": "006d51a8",
   "metadata": {
    "scrolled": true
   },
   "outputs": [],
   "source": [
    "logisticRegr = LogisticRegression(max_iter=10000)\n",
    "logisticRegr.fit(X_train, y_train.label)\n",
    "logistic_predictions = logisticRegr.predict(X_test)\n",
    "logistic_score = accuracy_score(y_test.label, logistic_predictions)"
   ]
  },
  {
   "cell_type": "markdown",
   "id": "cd656390",
   "metadata": {},
   "source": [
    "# Random Forest model"
   ]
  },
  {
   "cell_type": "code",
   "execution_count": 10,
   "id": "7a0366a4",
   "metadata": {},
   "outputs": [],
   "source": [
    "rf_model = RandomForestClassifier()\n",
    "rf_model.fit(X_train, y_train.label)\n",
    "rf_predictions = rf_model.predict(X_test)\n",
    "rf_score = accuracy_score(y_test.label, rf_predictions)"
   ]
  },
  {
   "cell_type": "markdown",
   "id": "dd04eb53",
   "metadata": {},
   "source": [
    "# SVM model"
   ]
  },
  {
   "cell_type": "code",
   "execution_count": 11,
   "id": "ac313129",
   "metadata": {},
   "outputs": [],
   "source": [
    "svm_model = SVC()\n",
    "svm_model.fit(X_train, y_train.label)\n",
    "svm_predictions = svm_model.predict(X_test)\n",
    "svm_score = accuracy_score(y_test.label, svm_predictions)"
   ]
  },
  {
   "cell_type": "code",
   "execution_count": 12,
   "id": "ed003d65",
   "metadata": {},
   "outputs": [
    {
     "name": "stdout",
     "output_type": "stream",
     "text": [
      "Logistic Regression Accuracy: 0.80\n",
      "Random Forest Accuracy: 0.89\n",
      "SVM Accuracy: 0.78\n",
      "\n",
      "Logistic Regression Classification Report:\n",
      "              precision    recall  f1-score   support\n",
      "\n",
      "           0       0.78      0.83      0.80      4335\n",
      "           1       0.82      0.78      0.80      4502\n",
      "\n",
      "    accuracy                           0.80      8837\n",
      "   macro avg       0.80      0.80      0.80      8837\n",
      "weighted avg       0.80      0.80      0.80      8837\n",
      "\n",
      "\n",
      "Random Forest Classification Report:\n",
      "              precision    recall  f1-score   support\n",
      "\n",
      "           0       0.90      0.87      0.88      4335\n",
      "           1       0.88      0.90      0.89      4502\n",
      "\n",
      "    accuracy                           0.89      8837\n",
      "   macro avg       0.89      0.89      0.89      8837\n",
      "weighted avg       0.89      0.89      0.89      8837\n",
      "\n",
      "\n",
      "SVM Classification Report:\n",
      "              precision    recall  f1-score   support\n",
      "\n",
      "           0       0.74      0.84      0.79      4335\n",
      "           1       0.83      0.71      0.76      4502\n",
      "\n",
      "    accuracy                           0.78      8837\n",
      "   macro avg       0.78      0.78      0.77      8837\n",
      "weighted avg       0.78      0.78      0.77      8837\n",
      "\n"
     ]
    }
   ],
   "source": [
    "# Compare and display results\n",
    "print(f\"Logistic Regression Accuracy: {logistic_score:.2f}\")\n",
    "print(f\"Random Forest Accuracy: {rf_score:.2f}\")\n",
    "print(f\"SVM Accuracy: {svm_score:.2f}\")\n",
    "\n",
    "print(\"\\nLogistic Regression Classification Report:\")\n",
    "print(classification_report(y_test.label, logistic_predictions))\n",
    "\n",
    "print(\"\\nRandom Forest Classification Report:\")\n",
    "print(classification_report(y_test.label, rf_predictions))\n",
    "\n",
    "print(\"\\nSVM Classification Report:\")\n",
    "print(classification_report(y_test.label, svm_predictions))"
   ]
  },
  {
   "cell_type": "code",
   "execution_count": 13,
   "id": "9b23eff8",
   "metadata": {},
   "outputs": [
    {
     "data": {
      "image/png": "[encoded data removed]",
      "text/plain": [
       "<Figure size 432x288 with 2 Axes>"
      ]
     },
     "metadata": {
      "needs_background": "light"
     },
     "output_type": "display_data"
    }
   ],
   "source": [
    "ConfusionMatrixDisplay.from_predictions(y_test.label, logistic_predictions)\n",
    "plt.show()"
   ]
  },
  {
   "cell_type": "code",
   "execution_count": 14,
   "id": "eb2e67d3",
   "metadata": {},
   "outputs": [
    {
     "data": {
      "image/png": "[encoded data removed]",
      "text/plain": [
       "<Figure size 432x288 with 2 Axes>"
      ]
     },
     "metadata": {
      "needs_background": "light"
     },
     "output_type": "display_data"
    }
   ],
   "source": [
    "ConfusionMatrixDisplay.from_predictions(y_test.label, rf_predictions)\n",
    "plt.show()"
   ]
  },
  {
   "cell_type": "code",
   "execution_count": 15,
   "id": "e013068d",
   "metadata": {},
   "outputs": [
    {
     "data": {
      "image/png": "[encoded data removed]",
      "text/plain": [
       "<Figure size 432x288 with 2 Axes>"
      ]
     },
     "metadata": {
      "needs_background": "light"
     },
     "output_type": "display_data"
    }
   ],
   "source": [
    "ConfusionMatrixDisplay.from_predictions(y_test.label, svm_predictions)\n",
    "plt.show()"
   ]
  }
 ],
 "metadata": {
  "kernelspec": {
   "display_name": "Python 3 (ipykernel)",
   "language": "python",
   "name": "python3"
  },
  "language_info": {
   "codemirror_mode": {
    "name": "ipython",
    "version": 3
   },
   "file_extension": ".py",
   "mimetype": "text/x-python",
   "name": "python",
   "nbconvert_exporter": "python",
   "pygments_lexer": "ipython3",
   "version": "3.10.4"
  }
 },
 "nbformat": 4,
 "nbformat_minor": 5
}
